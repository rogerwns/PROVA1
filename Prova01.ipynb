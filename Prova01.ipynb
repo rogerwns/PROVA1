{
 "cells": [
  {
   "cell_type": "code",
   "execution_count": null,
   "id": "0a436d8a-93ff-45f0-a321-ce4a57bf9d1d",
   "metadata": {},
   "outputs": [],
   "source": [
    "lista = [1,2,3,4,5,5,6,7,8,9,10]\n",
    "contar = len(lista)\n",
    "contar"
   ]
  },
  {
   "cell_type": "code",
   "execution_count": null,
   "id": "f270477c-5eb9-424a-a8e0-d54d0357b124",
   "metadata": {},
   "outputs": [],
   "source": [
    "# =("
   ]
  },
  {
   "cell_type": "code",
   "execution_count": null,
   "id": "675ef257-7920-4f7d-bb7c-db6a65c6183b",
   "metadata": {},
   "outputs": [],
   "source": [
    "class No:\n",
    "    def__init__(self, valor):\n",
    "    self. valor = valor\n",
    "    self.proximo = None\n",
    "\n",
    "class ListaEncadeada:\n",
    "    def__init__(self)\n",
    "    self.inicio = None\n",
    "\n",
    "def inserir(self, valor):\n",
    "    novo_no = No(valor)\n",
    "    if self.inicio is None:\n",
    "        self.inicio = novo_no\n",
    "    else: \n",
    "        atual = self.inicio\n",
    "        while atual.proximo:\n",
    "            atual = atual.proximo\n",
    "        atual.proximo = novo_no\n",
    "        \n",
    "def contar(self)\n",
    "        "
   ]
  }
 ],
 "metadata": {
  "kernelspec": {
   "display_name": "Python 3 (ipykernel)",
   "language": "python",
   "name": "python3"
  },
  "language_info": {
   "codemirror_mode": {
    "name": "ipython",
    "version": 3
   },
   "file_extension": ".py",
   "mimetype": "text/x-python",
   "name": "python",
   "nbconvert_exporter": "python",
   "pygments_lexer": "ipython3",
   "version": "3.12.4"
  }
 },
 "nbformat": 4,
 "nbformat_minor": 5
}
